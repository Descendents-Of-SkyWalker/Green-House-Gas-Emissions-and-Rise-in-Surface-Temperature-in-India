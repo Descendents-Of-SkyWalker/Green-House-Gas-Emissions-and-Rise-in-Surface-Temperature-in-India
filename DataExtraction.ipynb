{
 "metadata": {
  "language_info": {
   "codemirror_mode": {
    "name": "ipython",
    "version": 3
   },
   "file_extension": ".py",
   "mimetype": "text/x-python",
   "name": "python",
   "nbconvert_exporter": "python",
   "pygments_lexer": "ipython3",
   "version": "3.9.2"
  },
  "orig_nbformat": 2,
  "kernelspec": {
   "name": "python392jvsc74a57bd0dcacb0086e9a4f4eabd41c33bf4faac5ea0a3337ed3f5eff0680afa930572c04",
   "display_name": "Python 3.9.2 64-bit"
  },
  "metadata": {
   "interpreter": {
    "hash": "dcacb0086e9a4f4eabd41c33bf4faac5ea0a3337ed3f5eff0680afa930572c04"
   }
  }
 },
 "nbformat": 4,
 "nbformat_minor": 2,
 "cells": [
  {
   "cell_type": "code",
   "execution_count": 1,
   "metadata": {},
   "outputs": [],
   "source": [
    "import pandas as pd"
   ]
  },
  {
   "cell_type": "code",
   "execution_count": 2,
   "metadata": {},
   "outputs": [],
   "source": [
    "absoluteChangeCO2=pd.read_csv('CO2 Country Profile/absolute-change-co2.csv')\n",
    "absoluteChangeCO2India=absoluteChangeCO2[absoluteChangeCO2['Code']=='IND']\n",
    "absoluteChangeCO2India.to_csv(r'Extracted Data India/CO2 Country Profile India/absolute-change-co2-India.csv',index=False)"
   ]
  },
  {
   "cell_type": "code",
   "execution_count": 3,
   "metadata": {},
   "outputs": [],
   "source": [
    "annualCO2Emissions=pd.read_csv('CO2 Country Profile/annual-co2-emissions-per-country.csv')\n",
    "annualCO2EmissionsIndia=annualCO2Emissions[annualCO2Emissions['Code']=='IND']\n",
    "annualCO2EmissionsIndia.to_csv(r'Extracted Data India/CO2 Country Profile India/annual-co2-emissions-India.csv',index=False)"
   ]
  },
  {
   "cell_type": "code",
   "execution_count": 4,
   "metadata": {},
   "outputs": [],
   "source": [
    "cummulativeCO2Emissions=pd.read_csv('CO2 Country Profile/cumulative-co-emissions.csv')\n",
    "cummulativeCO2EmissionsIndia=cummulativeCO2Emissions[cummulativeCO2Emissions['Code']=='IND']\n",
    "cummulativeCO2EmissionsIndia.to_csv(r'Extracted Data India/CO2 Country Profile India/cumulative-co-emissions-India.csv',index=False)"
   ]
  },
  {
   "cell_type": "code",
   "execution_count": 6,
   "metadata": {},
   "outputs": [],
   "source": [
    "historicalEmissions=pd.read_csv('GHG Emission by Country and Economic Sector/historical_emissions.csv')\n",
    "historicalEmissionsIndia=historicalEmissions[historicalEmissions['Country']=='India']\n",
    "historicalEmissionsIndia.to_csv(r'Extracted Data India/GHG Emission India/historical_emissions_India.csv',index=False)"
   ]
  },
  {
   "cell_type": "code",
   "execution_count": 7,
   "metadata": {},
   "outputs": [],
   "source": [
    "GLTbyCity=pd.read_csv('Climate Change-Earth Surface Temperature/GlobalLandTemperaturesByCity.csv')\n",
    "GLTbyCityIndia=GLTbyCity[GLTbyCity['Country']=='India']\n",
    "GLTbyCityIndia.to_csv(r'Extracted Data India/Climate Change-Earth Surface Temperature India/GLTByCityIndia.csv',index=False)"
   ]
  },
  {
   "cell_type": "code",
   "execution_count": 10,
   "metadata": {},
   "outputs": [],
   "source": [
    "GLTbyCountry=pd.read_csv('Climate Change-Earth Surface Temperature/GlobalLandTemperaturesByCountry.csv')\n",
    "GLTIndia=GLTbyCountry[GLTbyCountry['Country']=='India']\n",
    "GLTIndia.to_csv(r'Extracted Data India/Climate Change-Earth Surface Temperature India/GLTIndia.csv',index=False)"
   ]
  },
  {
   "cell_type": "code",
   "execution_count": 11,
   "metadata": {},
   "outputs": [],
   "source": [
    "GLTbyMajorCity=pd.read_csv('Climate Change-Earth Surface Temperature/GlobalLandTemperaturesByMajorCity.csv')\n",
    "GLTbyMajorCityIndia=GLTbyMajorCity[GLTbyMajorCity['Country']=='India']\n",
    "GLTbyMajorCityIndia.to_csv(r'Extracted Data India/Climate Change-Earth Surface Temperature India/GLTByMajorCityIndia.csv',index=False)"
   ]
  },
  {
   "cell_type": "code",
   "execution_count": 12,
   "metadata": {},
   "outputs": [],
   "source": [
    "GLTbyState=pd.read_csv('Climate Change-Earth Surface Temperature/GlobalLandTemperaturesByState.csv')\n",
    "GLTbyStateIndia=GLTbyState[GLTbyState['Country']=='India']\n",
    "GLTbyStateIndia.to_csv(r'Extracted Data India/Climate Change-Earth Surface Temperature India/GLTByStateIndia.csv',index=False)"
   ]
  },
  {
   "cell_type": "code",
   "execution_count": 17,
   "metadata": {},
   "outputs": [
    {
     "output_type": "execute_result",
     "data": {
      "text/plain": [
       "     Entity Code  Year  Annual CO2 growth (abs)\n",
       "9604  India  IND  2017                64.487913\n",
       "9605  India  IND  2018               134.476098\n",
       "9606  India  IND  2019                25.125081"
      ],
      "text/html": "<div>\n<style scoped>\n    .dataframe tbody tr th:only-of-type {\n        vertical-align: middle;\n    }\n\n    .dataframe tbody tr th {\n        vertical-align: top;\n    }\n\n    .dataframe thead th {\n        text-align: right;\n    }\n</style>\n<table border=\"1\" class=\"dataframe\">\n  <thead>\n    <tr style=\"text-align: right;\">\n      <th></th>\n      <th>Entity</th>\n      <th>Code</th>\n      <th>Year</th>\n      <th>Annual CO2 growth (abs)</th>\n    </tr>\n  </thead>\n  <tbody>\n    <tr>\n      <th>9604</th>\n      <td>India</td>\n      <td>IND</td>\n      <td>2017</td>\n      <td>64.487913</td>\n    </tr>\n    <tr>\n      <th>9605</th>\n      <td>India</td>\n      <td>IND</td>\n      <td>2018</td>\n      <td>134.476098</td>\n    </tr>\n    <tr>\n      <th>9606</th>\n      <td>India</td>\n      <td>IND</td>\n      <td>2019</td>\n      <td>25.125081</td>\n    </tr>\n  </tbody>\n</table>\n</div>"
     },
     "metadata": {},
     "execution_count": 17
    }
   ],
   "source": [
    "absoluteChangeCO2India.tail(n=3)"
   ]
  },
  {
   "cell_type": "code",
   "execution_count": 18,
   "metadata": {},
   "outputs": [
    {
     "output_type": "execute_result",
     "data": {
      "text/plain": [
       "      Country Data source                         Sector  Gas    Unit  2018  \\\n",
       "21765   India  UNFCCC_NAI                         Energy  CH₄  MtCO₂e   NaN   \n",
       "21852   India  UNFCCC_NAI                          Other  CH₄  MtCO₂e   NaN   \n",
       "21892   India  UNFCCC_NAI  Solvent and Other Product Use  N₂O  MtCO₂e   NaN   \n",
       "\n",
       "       2017  2016  2015  2014  ...  1859  1858  1857  1856  1855  1854  1853  \\\n",
       "21765   NaN   NaN   NaN   NaN  ...   NaN   NaN   NaN   NaN   NaN   NaN   NaN   \n",
       "21852   NaN   NaN   NaN   NaN  ...   NaN   NaN   NaN   NaN   NaN   NaN   NaN   \n",
       "21892   NaN   NaN   NaN   NaN  ...   NaN   NaN   NaN   NaN   NaN   NaN   NaN   \n",
       "\n",
       "       1852  1851  1850  \n",
       "21765   NaN   NaN   NaN  \n",
       "21852   NaN   NaN   NaN  \n",
       "21892   NaN   NaN   NaN  \n",
       "\n",
       "[3 rows x 174 columns]"
      ],
      "text/html": "<div>\n<style scoped>\n    .dataframe tbody tr th:only-of-type {\n        vertical-align: middle;\n    }\n\n    .dataframe tbody tr th {\n        vertical-align: top;\n    }\n\n    .dataframe thead th {\n        text-align: right;\n    }\n</style>\n<table border=\"1\" class=\"dataframe\">\n  <thead>\n    <tr style=\"text-align: right;\">\n      <th></th>\n      <th>Country</th>\n      <th>Data source</th>\n      <th>Sector</th>\n      <th>Gas</th>\n      <th>Unit</th>\n      <th>2018</th>\n      <th>2017</th>\n      <th>2016</th>\n      <th>2015</th>\n      <th>2014</th>\n      <th>...</th>\n      <th>1859</th>\n      <th>1858</th>\n      <th>1857</th>\n      <th>1856</th>\n      <th>1855</th>\n      <th>1854</th>\n      <th>1853</th>\n      <th>1852</th>\n      <th>1851</th>\n      <th>1850</th>\n    </tr>\n  </thead>\n  <tbody>\n    <tr>\n      <th>21765</th>\n      <td>India</td>\n      <td>UNFCCC_NAI</td>\n      <td>Energy</td>\n      <td>CH₄</td>\n      <td>MtCO₂e</td>\n      <td>NaN</td>\n      <td>NaN</td>\n      <td>NaN</td>\n      <td>NaN</td>\n      <td>NaN</td>\n      <td>...</td>\n      <td>NaN</td>\n      <td>NaN</td>\n      <td>NaN</td>\n      <td>NaN</td>\n      <td>NaN</td>\n      <td>NaN</td>\n      <td>NaN</td>\n      <td>NaN</td>\n      <td>NaN</td>\n      <td>NaN</td>\n    </tr>\n    <tr>\n      <th>21852</th>\n      <td>India</td>\n      <td>UNFCCC_NAI</td>\n      <td>Other</td>\n      <td>CH₄</td>\n      <td>MtCO₂e</td>\n      <td>NaN</td>\n      <td>NaN</td>\n      <td>NaN</td>\n      <td>NaN</td>\n      <td>NaN</td>\n      <td>...</td>\n      <td>NaN</td>\n      <td>NaN</td>\n      <td>NaN</td>\n      <td>NaN</td>\n      <td>NaN</td>\n      <td>NaN</td>\n      <td>NaN</td>\n      <td>NaN</td>\n      <td>NaN</td>\n      <td>NaN</td>\n    </tr>\n    <tr>\n      <th>21892</th>\n      <td>India</td>\n      <td>UNFCCC_NAI</td>\n      <td>Solvent and Other Product Use</td>\n      <td>N₂O</td>\n      <td>MtCO₂e</td>\n      <td>NaN</td>\n      <td>NaN</td>\n      <td>NaN</td>\n      <td>NaN</td>\n      <td>NaN</td>\n      <td>...</td>\n      <td>NaN</td>\n      <td>NaN</td>\n      <td>NaN</td>\n      <td>NaN</td>\n      <td>NaN</td>\n      <td>NaN</td>\n      <td>NaN</td>\n      <td>NaN</td>\n      <td>NaN</td>\n      <td>NaN</td>\n    </tr>\n  </tbody>\n</table>\n<p>3 rows × 174 columns</p>\n</div>"
     },
     "metadata": {},
     "execution_count": 18
    }
   ],
   "source": [
    "historicalEmissionsIndia.tail(n=3)"
   ]
  },
  {
   "cell_type": "code",
   "execution_count": 19,
   "metadata": {},
   "outputs": [
    {
     "output_type": "execute_result",
     "data": {
      "text/plain": [
       "                dt  AverageTemperature  AverageTemperatureUncertainty Country\n",
       "246305  2013-07-01              27.012                          0.197   India\n",
       "246306  2013-08-01              26.555                          0.242   India\n",
       "246307  2013-09-01                 NaN                            NaN   India"
      ],
      "text/html": "<div>\n<style scoped>\n    .dataframe tbody tr th:only-of-type {\n        vertical-align: middle;\n    }\n\n    .dataframe tbody tr th {\n        vertical-align: top;\n    }\n\n    .dataframe thead th {\n        text-align: right;\n    }\n</style>\n<table border=\"1\" class=\"dataframe\">\n  <thead>\n    <tr style=\"text-align: right;\">\n      <th></th>\n      <th>dt</th>\n      <th>AverageTemperature</th>\n      <th>AverageTemperatureUncertainty</th>\n      <th>Country</th>\n    </tr>\n  </thead>\n  <tbody>\n    <tr>\n      <th>246305</th>\n      <td>2013-07-01</td>\n      <td>27.012</td>\n      <td>0.197</td>\n      <td>India</td>\n    </tr>\n    <tr>\n      <th>246306</th>\n      <td>2013-08-01</td>\n      <td>26.555</td>\n      <td>0.242</td>\n      <td>India</td>\n    </tr>\n    <tr>\n      <th>246307</th>\n      <td>2013-09-01</td>\n      <td>NaN</td>\n      <td>NaN</td>\n      <td>India</td>\n    </tr>\n  </tbody>\n</table>\n</div>"
     },
     "metadata": {},
     "execution_count": 19
    }
   ],
   "source": [
    "GLTIndia.tail(n=3)"
   ]
  }
 ]
}